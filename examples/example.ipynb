{
 "cells": [
  {
   "cell_type": "markdown",
   "source": [
    "# Request Examples"
   ],
   "metadata": {}
  },
  {
   "cell_type": "markdown",
   "source": [
    "## Example #1 - Retrieve Google Website"
   ],
   "metadata": {}
  },
  {
   "cell_type": "code",
   "execution_count": null,
   "source": [
    "from simple_http_client import Client\n",
    "client = Client()\n",
    "\n",
    "url = 'https://www.google.com/'\n",
    "response = client.request(url)\n",
    "print(response.body)"
   ],
   "outputs": [],
   "metadata": {}
  },
  {
   "cell_type": "markdown",
   "source": [
    "## Example #2 - Call Kintone REST APIs"
   ],
   "metadata": {}
  },
  {
   "cell_type": "markdown",
   "source": [
    "### Initial Configuration"
   ],
   "metadata": {}
  },
  {
   "cell_type": "code",
   "execution_count": 2,
   "source": [
    "import base64\n",
    "import os\n",
    "from simple_http_client import Client, FormData, HTTPError\n",
    "import urllib.parse\n",
    "\n",
    "client = Client()\n",
    "\n",
    "BASE_URL = os.environ.get('KINTONE_BASE_URL')\n",
    "AUTH_TOKEN = base64.b64encode((\n",
    "  '{}:{}'.format(\n",
    "    os.environ.get('KINTONE_USERNAME'),\n",
    "    os.environ.get('KINTONE_PASSWORD')\n",
    "  )\n",
    ").encode()).decode()\n",
    "\n",
    "APP = 894"
   ],
   "outputs": [],
   "metadata": {}
  },
  {
   "cell_type": "markdown",
   "source": [
    "### Retrieve Records"
   ],
   "metadata": {}
  },
  {
   "cell_type": "code",
   "execution_count": null,
   "source": [
    "url = '{}/k/v1/records.json?{}'.format(\n",
    "  BASE_URL,\n",
    "  urllib.parse.urlencode({\n",
    "    'app': APP,\n",
    "    'query': 'limit 1',\n",
    "    'fields[0]': '$id',\n",
    "    'totalCount': 'true'\n",
    "  })\n",
    ")\n",
    "print(url)\n",
    "try:\n",
    "  response = client.request(url, headers={\n",
    "    'X-Cybozu-Authorization': AUTH_TOKEN\n",
    "  })\n",
    "  print(response.to_dict)\n",
    "except HTTPError as e:\n",
    "  print(e.to_dict)"
   ],
   "outputs": [],
   "metadata": {}
  },
  {
   "cell_type": "markdown",
   "source": [
    "### Retrieve Records (mothod override)"
   ],
   "metadata": {}
  },
  {
   "cell_type": "code",
   "execution_count": null,
   "source": [
    "url = '{}/k/v1/records.json'.format(BASE_URL)\n",
    "body = {\n",
    "  'app': APP,\n",
    "  'query': 'limit 1',\n",
    "  'fields': ['$id'],\n",
    "  'totalCount': True\n",
    "}\n",
    "print(url)\n",
    "try:\n",
    "  response = client.request(\n",
    "    url,\n",
    "    method='POST',\n",
    "    headers={\n",
    "      'X-Cybozu-Authorization': AUTH_TOKEN,\n",
    "      'X-HTTP-Method-Override': 'GET'\n",
    "    },\n",
    "    body=body\n",
    "  )\n",
    "  print(response.to_dict)\n",
    "except HTTPError as e:\n",
    "  print(e.to_dict)"
   ],
   "outputs": [],
   "metadata": {}
  },
  {
   "cell_type": "markdown",
   "source": [
    "### Retrieve Records (failure case)"
   ],
   "metadata": {}
  },
  {
   "cell_type": "code",
   "execution_count": null,
   "source": [
    "url = '{}/k/v1/record.json?{}'.format(\n",
    "  BASE_URL,\n",
    "  urllib.parse.urlencode({\n",
    "    'app': APP,\n",
    "    'query': 'limit 1',\n",
    "    'fields[0]': '$id',\n",
    "    'totalCount': 'true'\n",
    "  })\n",
    ")\n",
    "print(url)\n",
    "try:\n",
    "  response = client.request(url, headers={\n",
    "    'X-Cybozu-Authorization': AUTH_TOKEN\n",
    "  })\n",
    "  print(response.to_dict)\n",
    "except HTTPError as e:\n",
    "  print(e.to_dict)"
   ],
   "outputs": [],
   "metadata": {}
  },
  {
   "cell_type": "markdown",
   "source": [
    "### Create Record"
   ],
   "metadata": {}
  },
  {
   "cell_type": "code",
   "execution_count": null,
   "source": [
    "url = '{}/k/v1/record.json'.format(BASE_URL)\n",
    "print(url)\n",
    "body = {\n",
    "  'app': APP,\n",
    "  'record': {\n",
    "    'Test': {\n",
    "      'value': 'test'\n",
    "    }\n",
    "  }\n",
    "}\n",
    "try:\n",
    "  response = client.request(\n",
    "    url,\n",
    "    method='POST',\n",
    "    headers={\n",
    "      'X-Cybozu-Authorization': AUTH_TOKEN\n",
    "    },\n",
    "    body=body\n",
    "  )\n",
    "  print(response.to_dict)\n",
    "except HTTPError as e:\n",
    "  print(e.to_dict)"
   ],
   "outputs": [],
   "metadata": {}
  },
  {
   "cell_type": "markdown",
   "source": [
    "### Upload File"
   ],
   "metadata": {}
  },
  {
   "cell_type": "code",
   "execution_count": null,
   "source": [
    "with open('./logo.png', 'rb') as f:\n",
    "  form = FormData()\n",
    "  form.add_file(\n",
    "          'file', 'logo.png',\n",
    "          fileHandle=f)\n",
    "  url = '{}/k/v1/file.json'.format(BASE_URL)\n",
    "  print(url)\n",
    "  try:\n",
    "    response = client.request(\n",
    "      url,\n",
    "      headers={\n",
    "        'X-Cybozu-Authorization': AUTH_TOKEN\n",
    "      },\n",
    "      body=form,\n",
    "      method='POST'\n",
    "    )\n",
    "    print(response.to_dict)\n",
    "  except HTTPError as e:\n",
    "    print(e.to_dict)"
   ],
   "outputs": [],
   "metadata": {}
  }
 ],
 "metadata": {
  "orig_nbformat": 4,
  "language_info": {
   "name": "python",
   "version": "3.9.7",
   "mimetype": "text/x-python",
   "codemirror_mode": {
    "name": "ipython",
    "version": 3
   },
   "pygments_lexer": "ipython3",
   "nbconvert_exporter": "python",
   "file_extension": ".py"
  },
  "kernelspec": {
   "name": "python3",
   "display_name": "Python 3.9.7 64-bit"
  },
  "interpreter": {
   "hash": "4cd7ab41f5fca4b9b44701077e38c5ffd31fe66a6cab21e0214b68d958d0e462"
  }
 },
 "nbformat": 4,
 "nbformat_minor": 2
}